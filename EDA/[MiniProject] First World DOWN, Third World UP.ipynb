{
 "cells": [
  {
   "cell_type": "markdown",
   "metadata": {},
   "source": [
    "Hello everybody,\n",
    "in this exploratory analysis we are gonna investigate the similarities and the differences between a declining first world country (Italy, my homeland) and a rising third world one (my beloved Brazil)"
   ]
  },
  {
   "cell_type": "markdown",
   "metadata": {},
   "source": [
    "This analysis will be driven by the data themselves, I’m not gonna use common knowledge about economic factors but the indicators under scrutiny will be chosen by statistical inquiries"
   ]
  },
  {
   "cell_type": "markdown",
   "metadata": {},
   "source": [
    "I want to point out that I have allowed myself 5 hours tops to conduct this project, and I beg you to pardon me any English mistakes"
   ]
  },
  {
   "cell_type": "markdown",
   "metadata": {},
   "source": [
    "First we import the necessary packages"
   ]
  },
  {
   "cell_type": "code",
   "execution_count": 1,
   "metadata": {},
   "outputs": [
    {
     "name": "stderr",
     "output_type": "stream",
     "text": [
      "C:\\Users\\JohnJohn\\Anaconda3\\lib\\site-packages\\ggplot\\utils.py:81: FutureWarning: pandas.tslib is deprecated and will be removed in a future version.\n",
      "You can access Timestamp as pandas.Timestamp\n",
      "  pd.tslib.Timestamp,\n",
      "C:\\Users\\JohnJohn\\Anaconda3\\lib\\site-packages\\ggplot\\stats\\smoothers.py:4: FutureWarning: The pandas.lib module is deprecated and will be removed in a future version. These are private functions and can be accessed from pandas._libs.lib instead\n",
      "  from pandas.lib import Timestamp\n",
      "C:\\Users\\JohnJohn\\Anaconda3\\lib\\site-packages\\statsmodels\\compat\\pandas.py:56: FutureWarning: The pandas.core.datetools module is deprecated and will be removed in a future version. Please use the pandas.tseries module instead.\n",
      "  from pandas.core import datetools\n"
     ]
    }
   ],
   "source": [
    "import pandas as pd\n",
    "import numpy as np\n",
    "from ggplot import *"
   ]
  },
  {
   "cell_type": "markdown",
   "metadata": {},
   "source": [
    "The we read in the dataframe obtained from https://www.kaggle.com/worldbank/world-development-indicators as df"
   ]
  },
  {
   "cell_type": "code",
   "execution_count": 2,
   "metadata": {
    "collapsed": true
   },
   "outputs": [],
   "source": [
    "df = pd.read_csv('./Indicators.csv')"
   ]
  },
  {
   "cell_type": "markdown",
   "metadata": {},
   "source": [
    "It is always useful to inspect the dataframe to get a sense of it and to control if the importing succeded"
   ]
  },
  {
   "cell_type": "code",
   "execution_count": 3,
   "metadata": {},
   "outputs": [
    {
     "data": {
      "text/plain": [
       "(5656458, 6)"
      ]
     },
     "execution_count": 3,
     "metadata": {},
     "output_type": "execute_result"
    }
   ],
   "source": [
    "df.shape"
   ]
  },
  {
   "cell_type": "code",
   "execution_count": 4,
   "metadata": {},
   "outputs": [
    {
     "data": {
      "text/html": [
       "<div>\n",
       "<style>\n",
       "    .dataframe thead tr:only-child th {\n",
       "        text-align: right;\n",
       "    }\n",
       "\n",
       "    .dataframe thead th {\n",
       "        text-align: left;\n",
       "    }\n",
       "\n",
       "    .dataframe tbody tr th {\n",
       "        vertical-align: top;\n",
       "    }\n",
       "</style>\n",
       "<table border=\"1\" class=\"dataframe\">\n",
       "  <thead>\n",
       "    <tr style=\"text-align: right;\">\n",
       "      <th></th>\n",
       "      <th>CountryName</th>\n",
       "      <th>CountryCode</th>\n",
       "      <th>IndicatorName</th>\n",
       "      <th>IndicatorCode</th>\n",
       "      <th>Year</th>\n",
       "      <th>Value</th>\n",
       "    </tr>\n",
       "  </thead>\n",
       "  <tbody>\n",
       "    <tr>\n",
       "      <th>0</th>\n",
       "      <td>Arab World</td>\n",
       "      <td>ARB</td>\n",
       "      <td>Adolescent fertility rate (births per 1,000 wo...</td>\n",
       "      <td>SP.ADO.TFRT</td>\n",
       "      <td>1960</td>\n",
       "      <td>1.335609e+02</td>\n",
       "    </tr>\n",
       "    <tr>\n",
       "      <th>1</th>\n",
       "      <td>Arab World</td>\n",
       "      <td>ARB</td>\n",
       "      <td>Age dependency ratio (% of working-age populat...</td>\n",
       "      <td>SP.POP.DPND</td>\n",
       "      <td>1960</td>\n",
       "      <td>8.779760e+01</td>\n",
       "    </tr>\n",
       "    <tr>\n",
       "      <th>2</th>\n",
       "      <td>Arab World</td>\n",
       "      <td>ARB</td>\n",
       "      <td>Age dependency ratio, old (% of working-age po...</td>\n",
       "      <td>SP.POP.DPND.OL</td>\n",
       "      <td>1960</td>\n",
       "      <td>6.634579e+00</td>\n",
       "    </tr>\n",
       "    <tr>\n",
       "      <th>3</th>\n",
       "      <td>Arab World</td>\n",
       "      <td>ARB</td>\n",
       "      <td>Age dependency ratio, young (% of working-age ...</td>\n",
       "      <td>SP.POP.DPND.YG</td>\n",
       "      <td>1960</td>\n",
       "      <td>8.102333e+01</td>\n",
       "    </tr>\n",
       "    <tr>\n",
       "      <th>4</th>\n",
       "      <td>Arab World</td>\n",
       "      <td>ARB</td>\n",
       "      <td>Arms exports (SIPRI trend indicator values)</td>\n",
       "      <td>MS.MIL.XPRT.KD</td>\n",
       "      <td>1960</td>\n",
       "      <td>3.000000e+06</td>\n",
       "    </tr>\n",
       "  </tbody>\n",
       "</table>\n",
       "</div>"
      ],
      "text/plain": [
       "  CountryName CountryCode                                      IndicatorName  \\\n",
       "0  Arab World         ARB  Adolescent fertility rate (births per 1,000 wo...   \n",
       "1  Arab World         ARB  Age dependency ratio (% of working-age populat...   \n",
       "2  Arab World         ARB  Age dependency ratio, old (% of working-age po...   \n",
       "3  Arab World         ARB  Age dependency ratio, young (% of working-age ...   \n",
       "4  Arab World         ARB        Arms exports (SIPRI trend indicator values)   \n",
       "\n",
       "    IndicatorCode  Year         Value  \n",
       "0     SP.ADO.TFRT  1960  1.335609e+02  \n",
       "1     SP.POP.DPND  1960  8.779760e+01  \n",
       "2  SP.POP.DPND.OL  1960  6.634579e+00  \n",
       "3  SP.POP.DPND.YG  1960  8.102333e+01  \n",
       "4  MS.MIL.XPRT.KD  1960  3.000000e+06  "
      ]
     },
     "execution_count": 4,
     "metadata": {},
     "output_type": "execute_result"
    }
   ],
   "source": [
    "df.head()"
   ]
  },
  {
   "cell_type": "code",
   "execution_count": 5,
   "metadata": {},
   "outputs": [
    {
     "data": {
      "text/html": [
       "<div>\n",
       "<style>\n",
       "    .dataframe thead tr:only-child th {\n",
       "        text-align: right;\n",
       "    }\n",
       "\n",
       "    .dataframe thead th {\n",
       "        text-align: left;\n",
       "    }\n",
       "\n",
       "    .dataframe tbody tr th {\n",
       "        vertical-align: top;\n",
       "    }\n",
       "</style>\n",
       "<table border=\"1\" class=\"dataframe\">\n",
       "  <thead>\n",
       "    <tr style=\"text-align: right;\">\n",
       "      <th></th>\n",
       "      <th>CountryName</th>\n",
       "      <th>CountryCode</th>\n",
       "      <th>IndicatorName</th>\n",
       "      <th>IndicatorCode</th>\n",
       "      <th>Year</th>\n",
       "      <th>Value</th>\n",
       "    </tr>\n",
       "  </thead>\n",
       "  <tbody>\n",
       "    <tr>\n",
       "      <th>5656453</th>\n",
       "      <td>Zimbabwe</td>\n",
       "      <td>ZWE</td>\n",
       "      <td>Time required to register property (days)</td>\n",
       "      <td>IC.PRP.DURS</td>\n",
       "      <td>2015</td>\n",
       "      <td>36.0</td>\n",
       "    </tr>\n",
       "    <tr>\n",
       "      <th>5656454</th>\n",
       "      <td>Zimbabwe</td>\n",
       "      <td>ZWE</td>\n",
       "      <td>Time required to start a business (days)</td>\n",
       "      <td>IC.REG.DURS</td>\n",
       "      <td>2015</td>\n",
       "      <td>90.0</td>\n",
       "    </tr>\n",
       "    <tr>\n",
       "      <th>5656455</th>\n",
       "      <td>Zimbabwe</td>\n",
       "      <td>ZWE</td>\n",
       "      <td>Time to prepare and pay taxes (hours)</td>\n",
       "      <td>IC.TAX.DURS</td>\n",
       "      <td>2015</td>\n",
       "      <td>242.0</td>\n",
       "    </tr>\n",
       "    <tr>\n",
       "      <th>5656456</th>\n",
       "      <td>Zimbabwe</td>\n",
       "      <td>ZWE</td>\n",
       "      <td>Time to resolve insolvency (years)</td>\n",
       "      <td>IC.ISV.DURS</td>\n",
       "      <td>2015</td>\n",
       "      <td>3.3</td>\n",
       "    </tr>\n",
       "    <tr>\n",
       "      <th>5656457</th>\n",
       "      <td>Zimbabwe</td>\n",
       "      <td>ZWE</td>\n",
       "      <td>Total tax rate (% of commercial profits)</td>\n",
       "      <td>IC.TAX.TOTL.CP.ZS</td>\n",
       "      <td>2015</td>\n",
       "      <td>32.8</td>\n",
       "    </tr>\n",
       "  </tbody>\n",
       "</table>\n",
       "</div>"
      ],
      "text/plain": [
       "        CountryName CountryCode                              IndicatorName  \\\n",
       "5656453    Zimbabwe         ZWE  Time required to register property (days)   \n",
       "5656454    Zimbabwe         ZWE   Time required to start a business (days)   \n",
       "5656455    Zimbabwe         ZWE      Time to prepare and pay taxes (hours)   \n",
       "5656456    Zimbabwe         ZWE         Time to resolve insolvency (years)   \n",
       "5656457    Zimbabwe         ZWE   Total tax rate (% of commercial profits)   \n",
       "\n",
       "             IndicatorCode  Year  Value  \n",
       "5656453        IC.PRP.DURS  2015   36.0  \n",
       "5656454        IC.REG.DURS  2015   90.0  \n",
       "5656455        IC.TAX.DURS  2015  242.0  \n",
       "5656456        IC.ISV.DURS  2015    3.3  \n",
       "5656457  IC.TAX.TOTL.CP.ZS  2015   32.8  "
      ]
     },
     "execution_count": 5,
     "metadata": {},
     "output_type": "execute_result"
    }
   ],
   "source": [
    "df.tail()"
   ]
  },
  {
   "cell_type": "code",
   "execution_count": 7,
   "metadata": {},
   "outputs": [
    {
     "data": {
      "text/plain": [
       "False"
      ]
     },
     "execution_count": 7,
     "metadata": {},
     "output_type": "execute_result"
    }
   ],
   "source": [
    "np.isnan(df['Value']).any() "
   ]
  },
  {
   "cell_type": "markdown",
   "metadata": {},
   "source": [
    "More informations about indicators can be found here: https://www.kaggle.com/benhamner/indicators-in-data"
   ]
  },
  {
   "cell_type": "markdown",
   "metadata": {},
   "source": [
    "More informations about the countries can be found here: https://www.kaggle.com/benhamner/countries-in-the-wdi-data"
   ]
  },
  {
   "cell_type": "markdown",
   "metadata": {},
   "source": [
    "So we are gonna subset the dataframe to only include observations pertaining to the two countries under scrutiny"
   ]
  },
  {
   "cell_type": "code",
   "execution_count": 6,
   "metadata": {
    "collapsed": true
   },
   "outputs": [],
   "source": [
    "df = df[(df['CountryName'] == 'Italy') | (df['CountryName'] == 'Brazil')]"
   ]
  },
  {
   "cell_type": "markdown",
   "metadata": {},
   "source": [
    "Let's perform some basic checks on the success of the operation: number of rows, number of unique country codes and a visual inspection "
   ]
  },
  {
   "cell_type": "code",
   "execution_count": 7,
   "metadata": {},
   "outputs": [
    {
     "data": {
      "text/plain": [
       "(61686, 6)"
      ]
     },
     "execution_count": 7,
     "metadata": {},
     "output_type": "execute_result"
    }
   ],
   "source": [
    "df.shape"
   ]
  },
  {
   "cell_type": "code",
   "execution_count": 8,
   "metadata": {},
   "outputs": [
    {
     "data": {
      "text/plain": [
       "2"
      ]
     },
     "execution_count": 8,
     "metadata": {},
     "output_type": "execute_result"
    }
   ],
   "source": [
    "countryCodes = df['CountryCode'].unique().tolist()\n",
    "len(countryCodes)"
   ]
  },
  {
   "cell_type": "code",
   "execution_count": 9,
   "metadata": {},
   "outputs": [
    {
     "data": {
      "text/html": [
       "<div>\n",
       "<style>\n",
       "    .dataframe thead tr:only-child th {\n",
       "        text-align: right;\n",
       "    }\n",
       "\n",
       "    .dataframe thead th {\n",
       "        text-align: left;\n",
       "    }\n",
       "\n",
       "    .dataframe tbody tr th {\n",
       "        vertical-align: top;\n",
       "    }\n",
       "</style>\n",
       "<table border=\"1\" class=\"dataframe\">\n",
       "  <thead>\n",
       "    <tr style=\"text-align: right;\">\n",
       "      <th></th>\n",
       "      <th>CountryName</th>\n",
       "      <th>CountryCode</th>\n",
       "      <th>IndicatorName</th>\n",
       "      <th>IndicatorCode</th>\n",
       "      <th>Year</th>\n",
       "      <th>Value</th>\n",
       "    </tr>\n",
       "  </thead>\n",
       "  <tbody>\n",
       "    <tr>\n",
       "      <th>5630</th>\n",
       "      <td>Brazil</td>\n",
       "      <td>BRA</td>\n",
       "      <td>Adolescent fertility rate (births per 1,000 wo...</td>\n",
       "      <td>SP.ADO.TFRT</td>\n",
       "      <td>1960</td>\n",
       "      <td>92.046800</td>\n",
       "    </tr>\n",
       "    <tr>\n",
       "      <th>5631</th>\n",
       "      <td>Brazil</td>\n",
       "      <td>BRA</td>\n",
       "      <td>Age dependency ratio (% of working-age populat...</td>\n",
       "      <td>SP.POP.DPND</td>\n",
       "      <td>1960</td>\n",
       "      <td>86.888705</td>\n",
       "    </tr>\n",
       "    <tr>\n",
       "      <th>5632</th>\n",
       "      <td>Brazil</td>\n",
       "      <td>BRA</td>\n",
       "      <td>Age dependency ratio, old (% of working-age po...</td>\n",
       "      <td>SP.POP.DPND.OL</td>\n",
       "      <td>1960</td>\n",
       "      <td>5.865863</td>\n",
       "    </tr>\n",
       "    <tr>\n",
       "      <th>5633</th>\n",
       "      <td>Brazil</td>\n",
       "      <td>BRA</td>\n",
       "      <td>Age dependency ratio, young (% of working-age ...</td>\n",
       "      <td>SP.POP.DPND.YG</td>\n",
       "      <td>1960</td>\n",
       "      <td>81.022843</td>\n",
       "    </tr>\n",
       "    <tr>\n",
       "      <th>5634</th>\n",
       "      <td>Brazil</td>\n",
       "      <td>BRA</td>\n",
       "      <td>Agriculture, value added (% of GDP)</td>\n",
       "      <td>NV.AGR.TOTL.ZS</td>\n",
       "      <td>1960</td>\n",
       "      <td>20.592814</td>\n",
       "    </tr>\n",
       "  </tbody>\n",
       "</table>\n",
       "</div>"
      ],
      "text/plain": [
       "     CountryName CountryCode  \\\n",
       "5630      Brazil         BRA   \n",
       "5631      Brazil         BRA   \n",
       "5632      Brazil         BRA   \n",
       "5633      Brazil         BRA   \n",
       "5634      Brazil         BRA   \n",
       "\n",
       "                                          IndicatorName   IndicatorCode  Year  \\\n",
       "5630  Adolescent fertility rate (births per 1,000 wo...     SP.ADO.TFRT  1960   \n",
       "5631  Age dependency ratio (% of working-age populat...     SP.POP.DPND  1960   \n",
       "5632  Age dependency ratio, old (% of working-age po...  SP.POP.DPND.OL  1960   \n",
       "5633  Age dependency ratio, young (% of working-age ...  SP.POP.DPND.YG  1960   \n",
       "5634                Agriculture, value added (% of GDP)  NV.AGR.TOTL.ZS  1960   \n",
       "\n",
       "          Value  \n",
       "5630  92.046800  \n",
       "5631  86.888705  \n",
       "5632   5.865863  \n",
       "5633  81.022843  \n",
       "5634  20.592814  "
      ]
     },
     "execution_count": 9,
     "metadata": {},
     "output_type": "execute_result"
    }
   ],
   "source": [
    "df.head()"
   ]
  },
  {
   "cell_type": "code",
   "execution_count": 10,
   "metadata": {},
   "outputs": [
    {
     "data": {
      "text/html": [
       "<div>\n",
       "<style>\n",
       "    .dataframe thead tr:only-child th {\n",
       "        text-align: right;\n",
       "    }\n",
       "\n",
       "    .dataframe thead th {\n",
       "        text-align: left;\n",
       "    }\n",
       "\n",
       "    .dataframe tbody tr th {\n",
       "        vertical-align: top;\n",
       "    }\n",
       "</style>\n",
       "<table border=\"1\" class=\"dataframe\">\n",
       "  <thead>\n",
       "    <tr style=\"text-align: right;\">\n",
       "      <th></th>\n",
       "      <th>CountryName</th>\n",
       "      <th>CountryCode</th>\n",
       "      <th>IndicatorName</th>\n",
       "      <th>IndicatorCode</th>\n",
       "      <th>Year</th>\n",
       "      <th>Value</th>\n",
       "    </tr>\n",
       "  </thead>\n",
       "  <tbody>\n",
       "    <tr>\n",
       "      <th>5649194</th>\n",
       "      <td>Italy</td>\n",
       "      <td>ITA</td>\n",
       "      <td>Time required to register property (days)</td>\n",
       "      <td>IC.PRP.DURS</td>\n",
       "      <td>2015</td>\n",
       "      <td>16.0</td>\n",
       "    </tr>\n",
       "    <tr>\n",
       "      <th>5649195</th>\n",
       "      <td>Italy</td>\n",
       "      <td>ITA</td>\n",
       "      <td>Time required to start a business (days)</td>\n",
       "      <td>IC.REG.DURS</td>\n",
       "      <td>2015</td>\n",
       "      <td>5.5</td>\n",
       "    </tr>\n",
       "    <tr>\n",
       "      <th>5649196</th>\n",
       "      <td>Italy</td>\n",
       "      <td>ITA</td>\n",
       "      <td>Time to prepare and pay taxes (hours)</td>\n",
       "      <td>IC.TAX.DURS</td>\n",
       "      <td>2015</td>\n",
       "      <td>269.0</td>\n",
       "    </tr>\n",
       "    <tr>\n",
       "      <th>5649197</th>\n",
       "      <td>Italy</td>\n",
       "      <td>ITA</td>\n",
       "      <td>Time to resolve insolvency (years)</td>\n",
       "      <td>IC.ISV.DURS</td>\n",
       "      <td>2015</td>\n",
       "      <td>1.8</td>\n",
       "    </tr>\n",
       "    <tr>\n",
       "      <th>5649198</th>\n",
       "      <td>Italy</td>\n",
       "      <td>ITA</td>\n",
       "      <td>Total tax rate (% of commercial profits)</td>\n",
       "      <td>IC.TAX.TOTL.CP.ZS</td>\n",
       "      <td>2015</td>\n",
       "      <td>64.8</td>\n",
       "    </tr>\n",
       "  </tbody>\n",
       "</table>\n",
       "</div>"
      ],
      "text/plain": [
       "        CountryName CountryCode                              IndicatorName  \\\n",
       "5649194       Italy         ITA  Time required to register property (days)   \n",
       "5649195       Italy         ITA   Time required to start a business (days)   \n",
       "5649196       Italy         ITA      Time to prepare and pay taxes (hours)   \n",
       "5649197       Italy         ITA         Time to resolve insolvency (years)   \n",
       "5649198       Italy         ITA   Total tax rate (% of commercial profits)   \n",
       "\n",
       "             IndicatorCode  Year  Value  \n",
       "5649194        IC.PRP.DURS  2015   16.0  \n",
       "5649195        IC.REG.DURS  2015    5.5  \n",
       "5649196        IC.TAX.DURS  2015  269.0  \n",
       "5649197        IC.ISV.DURS  2015    1.8  \n",
       "5649198  IC.TAX.TOTL.CP.ZS  2015   64.8  "
      ]
     },
     "execution_count": 10,
     "metadata": {},
     "output_type": "execute_result"
    }
   ],
   "source": [
    "df.tail()"
   ]
  },
  {
   "cell_type": "markdown",
   "metadata": {},
   "source": [
    "Now we could select some indicators to compare the two countries with, but let the numbers decide for us!"
   ]
  },
  {
   "cell_type": "code",
   "execution_count": 11,
   "metadata": {
    "collapsed": true
   },
   "outputs": [],
   "source": [
    "ITAstd = df[df['CountryName'] == 'Italy'].groupby('IndicatorName').std()\n",
    "BRAstd = df[df['CountryName'] == 'Brazil'].groupby('IndicatorName').std()\n",
    "del ITAstd['Year']\n",
    "del BRAstd['Year']"
   ]
  },
  {
   "cell_type": "code",
   "execution_count": 12,
   "metadata": {},
   "outputs": [
    {
     "data": {
      "text/html": [
       "<div>\n",
       "<style>\n",
       "    .dataframe thead tr:only-child th {\n",
       "        text-align: right;\n",
       "    }\n",
       "\n",
       "    .dataframe thead th {\n",
       "        text-align: left;\n",
       "    }\n",
       "\n",
       "    .dataframe tbody tr th {\n",
       "        vertical-align: top;\n",
       "    }\n",
       "</style>\n",
       "<table border=\"1\" class=\"dataframe\">\n",
       "  <thead>\n",
       "    <tr style=\"text-align: right;\">\n",
       "      <th></th>\n",
       "      <th>Value</th>\n",
       "    </tr>\n",
       "    <tr>\n",
       "      <th>IndicatorName</th>\n",
       "      <th></th>\n",
       "    </tr>\n",
       "  </thead>\n",
       "  <tbody>\n",
       "    <tr>\n",
       "      <th>GDP at market prices (current US$)</th>\n",
       "      <td>7.577150e+11</td>\n",
       "    </tr>\n",
       "    <tr>\n",
       "      <th>Gross national expenditure (current US$)</th>\n",
       "      <td>7.553222e+11</td>\n",
       "    </tr>\n",
       "    <tr>\n",
       "      <th>GNI (current US$)</th>\n",
       "      <td>7.549058e+11</td>\n",
       "    </tr>\n",
       "    <tr>\n",
       "      <th>GNI, Atlas method (current US$)</th>\n",
       "      <td>7.428277e+11</td>\n",
       "    </tr>\n",
       "    <tr>\n",
       "      <th>Gross value added at factor cost (current US$)</th>\n",
       "      <td>6.662076e+11</td>\n",
       "    </tr>\n",
       "    <tr>\n",
       "      <th>Stocks traded, total value (current US$)</th>\n",
       "      <td>6.269766e+11</td>\n",
       "    </tr>\n",
       "    <tr>\n",
       "      <th>GDP (current LCU)</th>\n",
       "      <td>6.138745e+11</td>\n",
       "    </tr>\n",
       "    <tr>\n",
       "      <th>GNI (current LCU)</th>\n",
       "      <td>6.118830e+11</td>\n",
       "    </tr>\n",
       "    <tr>\n",
       "      <th>Gross national expenditure (current LCU)</th>\n",
       "      <td>6.104228e+11</td>\n",
       "    </tr>\n",
       "    <tr>\n",
       "      <th>Final consumption expenditure, etc. (current US$)</th>\n",
       "      <td>5.968762e+11</td>\n",
       "    </tr>\n",
       "  </tbody>\n",
       "</table>\n",
       "</div>"
      ],
      "text/plain": [
       "                                                          Value\n",
       "IndicatorName                                                  \n",
       "GDP at market prices (current US$)                 7.577150e+11\n",
       "Gross national expenditure (current US$)           7.553222e+11\n",
       "GNI (current US$)                                  7.549058e+11\n",
       "GNI, Atlas method (current US$)                    7.428277e+11\n",
       "Gross value added at factor cost (current US$)     6.662076e+11\n",
       "Stocks traded, total value (current US$)           6.269766e+11\n",
       "GDP (current LCU)                                  6.138745e+11\n",
       "GNI (current LCU)                                  6.118830e+11\n",
       "Gross national expenditure (current LCU)           6.104228e+11\n",
       "Final consumption expenditure, etc. (current US$)  5.968762e+11"
      ]
     },
     "execution_count": 12,
     "metadata": {},
     "output_type": "execute_result"
    }
   ],
   "source": [
    "ITAstd.sort_values(by = 'Value',ascending = False).head(10)"
   ]
  },
  {
   "cell_type": "code",
   "execution_count": 13,
   "metadata": {},
   "outputs": [
    {
     "data": {
      "text/html": [
       "<div>\n",
       "<style>\n",
       "    .dataframe thead tr:only-child th {\n",
       "        text-align: right;\n",
       "    }\n",
       "\n",
       "    .dataframe thead th {\n",
       "        text-align: left;\n",
       "    }\n",
       "\n",
       "    .dataframe tbody tr th {\n",
       "        vertical-align: top;\n",
       "    }\n",
       "</style>\n",
       "<table border=\"1\" class=\"dataframe\">\n",
       "  <thead>\n",
       "    <tr style=\"text-align: right;\">\n",
       "      <th></th>\n",
       "      <th>Value</th>\n",
       "    </tr>\n",
       "    <tr>\n",
       "      <th>IndicatorName</th>\n",
       "      <th></th>\n",
       "    </tr>\n",
       "  </thead>\n",
       "  <tbody>\n",
       "    <tr>\n",
       "      <th>Net domestic credit (current LCU)</th>\n",
       "      <td>1.660472e+12</td>\n",
       "    </tr>\n",
       "    <tr>\n",
       "      <th>Gross national expenditure (current LCU)</th>\n",
       "      <td>1.528376e+12</td>\n",
       "    </tr>\n",
       "    <tr>\n",
       "      <th>GDP (current LCU)</th>\n",
       "      <td>1.510974e+12</td>\n",
       "    </tr>\n",
       "    <tr>\n",
       "      <th>GNI (current LCU)</th>\n",
       "      <td>1.476932e+12</td>\n",
       "    </tr>\n",
       "    <tr>\n",
       "      <th>Gross value added at factor cost (current LCU)</th>\n",
       "      <td>1.285803e+12</td>\n",
       "    </tr>\n",
       "    <tr>\n",
       "      <th>Broad money (current LCU)</th>\n",
       "      <td>1.249321e+12</td>\n",
       "    </tr>\n",
       "    <tr>\n",
       "      <th>Money and quasi money (M2) (current LCU)</th>\n",
       "      <td>1.249321e+12</td>\n",
       "    </tr>\n",
       "    <tr>\n",
       "      <th>Final consumption expenditure, etc. (current LCU)</th>\n",
       "      <td>1.220215e+12</td>\n",
       "    </tr>\n",
       "    <tr>\n",
       "      <th>Final consumption expenditure (current LCU)</th>\n",
       "      <td>1.220215e+12</td>\n",
       "    </tr>\n",
       "    <tr>\n",
       "      <th>Quasi money (current LCU)</th>\n",
       "      <td>1.155751e+12</td>\n",
       "    </tr>\n",
       "  </tbody>\n",
       "</table>\n",
       "</div>"
      ],
      "text/plain": [
       "                                                          Value\n",
       "IndicatorName                                                  \n",
       "Net domestic credit (current LCU)                  1.660472e+12\n",
       "Gross national expenditure (current LCU)           1.528376e+12\n",
       "GDP (current LCU)                                  1.510974e+12\n",
       "GNI (current LCU)                                  1.476932e+12\n",
       "Gross value added at factor cost (current LCU)     1.285803e+12\n",
       "Broad money (current LCU)                          1.249321e+12\n",
       "Money and quasi money (M2) (current LCU)           1.249321e+12\n",
       "Final consumption expenditure, etc. (current LCU)  1.220215e+12\n",
       "Final consumption expenditure (current LCU)        1.220215e+12\n",
       "Quasi money (current LCU)                          1.155751e+12"
      ]
     },
     "execution_count": 13,
     "metadata": {},
     "output_type": "execute_result"
    }
   ],
   "source": [
    "BRAstd.sort_values(by = 'Value', ascending = False).head(10)"
   ]
  },
  {
   "cell_type": "markdown",
   "metadata": {},
   "source": [
    "We decided to use the standard deviation as a measure of how much that indicator changed throughout the years, we could have also used the range or some others more sophisticated, but too burdensome for the confines of this project, methods."
   ]
  },
  {
   "cell_type": "markdown",
   "metadata": {},
   "source": [
    "Let's plot the Gross Domestic Products of the two countries, it is a popular indicator and it shows on both the dataframes."
   ]
  },
  {
   "cell_type": "code",
   "execution_count": 14,
   "metadata": {
    "collapsed": true
   },
   "outputs": [],
   "source": [
    "p1 = ggplot(df[df['IndicatorName'] == 'GDP (current LCU)'], aes('Year', 'Value'))+ geom_line() + facet_wrap('CountryName')"
   ]
  },
  {
   "cell_type": "code",
   "execution_count": 15,
   "metadata": {},
   "outputs": [
    {
     "data": {
      "image/png": "[encoded data removed]",
      "text/plain": [
       "<matplotlib.figure.Figure at 0x108723ab70>"
      ]
     },
     "metadata": {},
     "output_type": "display_data"
    },
    {
     "name": "stdout",
     "output_type": "stream",
     "text": [
      "<ggplot: (4436671075)>\n"
     ]
    }
   ],
   "source": [
    "print(p1)"
   ]
  },
  {
   "cell_type": "markdown",
   "metadata": {},
   "source": [
    "WOW! Brazil really took off by the mid nineties, while Italy, never as upward, started to slow around the subprimes' crise's years"
   ]
  },
  {
   "cell_type": "markdown",
   "metadata": {},
   "source": [
    "We are interest in indicators of change, then the ones with \"growth\" in it can provide some insights"
   ]
  },
  {
   "cell_type": "code",
   "execution_count": 16,
   "metadata": {
    "collapsed": true
   },
   "outputs": [],
   "source": [
    "growthFilter = df['IndicatorName'].str.contains(\"growth\")"
   ]
  },
  {
   "cell_type": "code",
   "execution_count": 17,
   "metadata": {},
   "outputs": [
    {
     "data": {
      "text/plain": [
       "['Population growth (annual %)',\n",
       " 'Rural population growth (annual %)',\n",
       " 'Urban population growth (annual %)',\n",
       " 'Exports of goods and services (annual % growth)',\n",
       " 'Final consumption expenditure, etc. (annual % growth)',\n",
       " 'GDP growth (annual %)',\n",
       " 'GDP per capita growth (annual %)',\n",
       " 'General government final consumption expenditure (annual % growth)',\n",
       " 'GNI growth (annual %)',\n",
       " 'GNI per capita growth (annual %)',\n",
       " 'Gross capital formation (annual % growth)',\n",
       " 'Household final consumption expenditure (annual % growth)',\n",
       " 'Household final consumption expenditure per capita growth (annual %)',\n",
       " 'Household final consumption expenditure, etc. (annual % growth)',\n",
       " 'Imports of goods and services (annual % growth)',\n",
       " 'Gross fixed capital formation (annual % growth)',\n",
       " 'Agriculture, value added (annual % growth)',\n",
       " 'Industry, value added (annual % growth)',\n",
       " 'Services, etc., value added (annual % growth)',\n",
       " 'Adjusted net national income (annual % growth)',\n",
       " 'Adjusted net national income per capita (annual % growth)',\n",
       " 'Manufacturing, value added (annual % growth)',\n",
       " 'Broad money growth (annual %)',\n",
       " 'Claims on central government (annual growth as % of broad money)',\n",
       " 'Claims on other sectors of the domestic economy (annual growth as % of broad money)',\n",
       " 'Claims on private sector (annual growth as % of broad money)',\n",
       " 'Money and quasi money growth (annual %)',\n",
       " 'Annualized average growth rate in per capita real survey mean consumption or income, bottom 40% of population (%)',\n",
       " 'Annualized average growth rate in per capita real survey mean consumption or income, total population (%)']"
      ]
     },
     "execution_count": 17,
     "metadata": {},
     "output_type": "execute_result"
    }
   ],
   "source": [
    "growthInd = df[growthFilter]\n",
    "growthInd['IndicatorName'].unique().tolist()"
   ]
  },
  {
   "cell_type": "markdown",
   "metadata": {},
   "source": [
    "There are some interesting indicators amongst those, I'm going to focus on Adjusted net national income and Household final consumption expenditure"
   ]
  },
  {
   "cell_type": "code",
   "execution_count": 18,
   "metadata": {
    "collapsed": true
   },
   "outputs": [],
   "source": [
    "p2 = ggplot(df[df['IndicatorName'] == 'Adjusted net national income (annual % growth)'], aes('Year', 'Value'))+ geom_line() + facet_wrap('CountryName')"
   ]
  },
  {
   "cell_type": "code",
   "execution_count": 19,
   "metadata": {},
   "outputs": [
    {
     "data": {
      "image/png": "[encoded data removed]",
      "text/plain": [
       "<matplotlib.figure.Figure at 0x108780c2b0>"
      ]
     },
     "metadata": {},
     "output_type": "display_data"
    },
    {
     "name": "stdout",
     "output_type": "stream",
     "text": [
      "<ggplot: (4437036783)>\n"
     ]
    }
   ],
   "source": [
    "print(p2)"
   ]
  },
  {
   "cell_type": "markdown",
   "metadata": {},
   "source": [
    "This is the power of plotting, we can immediately see the differences between the two countries, with Italy having a very smooth tendency, with a little of a nosedive by the infaumous 2008, and Brazil steadily over 0% over the past 10 years."
   ]
  },
  {
   "cell_type": "code",
   "execution_count": 20,
   "metadata": {
    "collapsed": true
   },
   "outputs": [],
   "source": [
    "p3 = ggplot(df[df['IndicatorName'] == 'Household final consumption expenditure (annual % growth)'], aes('Year', 'Value'))+ geom_line() + facet_wrap('CountryName')"
   ]
  },
  {
   "cell_type": "code",
   "execution_count": 21,
   "metadata": {},
   "outputs": [
    {
     "data": {
      "image/png": "[encoded data removed]",
      "text/plain": [
       "<matplotlib.figure.Figure at 0x1087838198>"
      ]
     },
     "metadata": {},
     "output_type": "display_data"
    },
    {
     "name": "stdout",
     "output_type": "stream",
     "text": [
      "<ggplot: (4437276445)>\n"
     ]
    }
   ],
   "source": [
    "print(p3)"
   ]
  },
  {
   "cell_type": "markdown",
   "metadata": {},
   "source": [
    "If we were to perform a linear regression for the Italy graph, we would aknowledge with more precision its declining trend from the aftermath of the \"Economic Boom\" years of the fifties, while Brazil shows a strong and steady growth in the 2000s."
   ]
  },
  {
   "cell_type": "markdown",
   "metadata": {},
   "source": [
    "Let's now investigate the strong and weak points of each country"
   ]
  },
  {
   "cell_type": "code",
   "execution_count": 22,
   "metadata": {
    "collapsed": true
   },
   "outputs": [],
   "source": [
    "ITAmax = df[df['CountryName'] == 'Italy'].groupby('IndicatorName').max()\n",
    "BRAmax = df[df['CountryName'] == 'Brazil'].groupby('IndicatorName').max()\n",
    "del ITAmax['Year']\n",
    "del ITAmax['CountryName']\n",
    "del ITAmax['CountryCode']\n",
    "del ITAmax['IndicatorCode']\n",
    "del BRAmax['Year']\n",
    "del BRAmax['CountryName']\n",
    "del BRAmax['CountryCode']\n",
    "del BRAmax['IndicatorCode']"
   ]
  },
  {
   "cell_type": "code",
   "execution_count": 23,
   "metadata": {},
   "outputs": [
    {
     "data": {
      "text/html": [
       "<div>\n",
       "<style>\n",
       "    .dataframe thead tr:only-child th {\n",
       "        text-align: right;\n",
       "    }\n",
       "\n",
       "    .dataframe thead th {\n",
       "        text-align: left;\n",
       "    }\n",
       "\n",
       "    .dataframe tbody tr th {\n",
       "        vertical-align: top;\n",
       "    }\n",
       "</style>\n",
       "<table border=\"1\" class=\"dataframe\">\n",
       "  <thead>\n",
       "    <tr style=\"text-align: right;\">\n",
       "      <th></th>\n",
       "      <th>Value</th>\n",
       "    </tr>\n",
       "    <tr>\n",
       "      <th>IndicatorName</th>\n",
       "      <th></th>\n",
       "    </tr>\n",
       "  </thead>\n",
       "  <tbody>\n",
       "    <tr>\n",
       "      <th>Gross national expenditure (current US$)</th>\n",
       "      <td>2.410737e+12</td>\n",
       "    </tr>\n",
       "    <tr>\n",
       "      <th>GDP at market prices (current US$)</th>\n",
       "      <td>2.391876e+12</td>\n",
       "    </tr>\n",
       "    <tr>\n",
       "      <th>GNI (current US$)</th>\n",
       "      <td>2.369489e+12</td>\n",
       "    </tr>\n",
       "    <tr>\n",
       "      <th>Stocks traded, total value (current US$)</th>\n",
       "      <td>2.302036e+12</td>\n",
       "    </tr>\n",
       "    <tr>\n",
       "      <th>GNI, Atlas method (current US$)</th>\n",
       "      <td>2.237958e+12</td>\n",
       "    </tr>\n",
       "  </tbody>\n",
       "</table>\n",
       "</div>"
      ],
      "text/plain": [
       "                                                 Value\n",
       "IndicatorName                                         \n",
       "Gross national expenditure (current US$)  2.410737e+12\n",
       "GDP at market prices (current US$)        2.391876e+12\n",
       "GNI (current US$)                         2.369489e+12\n",
       "Stocks traded, total value (current US$)  2.302036e+12\n",
       "GNI, Atlas method (current US$)           2.237958e+12"
      ]
     },
     "execution_count": 23,
     "metadata": {},
     "output_type": "execute_result"
    }
   ],
   "source": [
    "ITAmax.sort_values(by = 'Value',ascending = False).head()"
   ]
  },
  {
   "cell_type": "code",
   "execution_count": 24,
   "metadata": {},
   "outputs": [
    {
     "data": {
      "text/html": [
       "<div>\n",
       "<style>\n",
       "    .dataframe thead tr:only-child th {\n",
       "        text-align: right;\n",
       "    }\n",
       "\n",
       "    .dataframe thead th {\n",
       "        text-align: left;\n",
       "    }\n",
       "\n",
       "    .dataframe tbody tr th {\n",
       "        vertical-align: top;\n",
       "    }\n",
       "</style>\n",
       "<table border=\"1\" class=\"dataframe\">\n",
       "  <thead>\n",
       "    <tr style=\"text-align: right;\">\n",
       "      <th></th>\n",
       "      <th>Value</th>\n",
       "    </tr>\n",
       "    <tr>\n",
       "      <th>IndicatorName</th>\n",
       "      <th></th>\n",
       "    </tr>\n",
       "  </thead>\n",
       "  <tbody>\n",
       "    <tr>\n",
       "      <th>Net domestic credit (current LCU)</th>\n",
       "      <td>5.977780e+12</td>\n",
       "    </tr>\n",
       "    <tr>\n",
       "      <th>Gross national expenditure (current LCU)</th>\n",
       "      <td>5.673473e+12</td>\n",
       "    </tr>\n",
       "    <tr>\n",
       "      <th>GDP (current LCU)</th>\n",
       "      <td>5.521256e+12</td>\n",
       "    </tr>\n",
       "    <tr>\n",
       "      <th>GNI (current LCU)</th>\n",
       "      <td>5.434786e+12</td>\n",
       "    </tr>\n",
       "    <tr>\n",
       "      <th>Gross value added at factor cost (current LCU)</th>\n",
       "      <td>4.718903e+12</td>\n",
       "    </tr>\n",
       "  </tbody>\n",
       "</table>\n",
       "</div>"
      ],
      "text/plain": [
       "                                                       Value\n",
       "IndicatorName                                               \n",
       "Net domestic credit (current LCU)               5.977780e+12\n",
       "Gross national expenditure (current LCU)        5.673473e+12\n",
       "GDP (current LCU)                               5.521256e+12\n",
       "GNI (current LCU)                               5.434786e+12\n",
       "Gross value added at factor cost (current LCU)  4.718903e+12"
      ]
     },
     "execution_count": 24,
     "metadata": {},
     "output_type": "execute_result"
    }
   ],
   "source": [
    "BRAmax.sort_values(by = 'Value',ascending = False).head()"
   ]
  },
  {
   "cell_type": "markdown",
   "metadata": {},
   "source": [
    "Let's examine the Gross national expenditure (but in US dollars) for both country"
   ]
  },
  {
   "cell_type": "code",
   "execution_count": 25,
   "metadata": {
    "collapsed": true
   },
   "outputs": [],
   "source": [
    "p4 = ggplot(df[df['IndicatorName'] == 'Gross national expenditure (current US$)'], aes('Year', 'Value'))+ geom_line() + facet_wrap('CountryName')"
   ]
  },
  {
   "cell_type": "code",
   "execution_count": 26,
   "metadata": {},
   "outputs": [
    {
     "data": {
      "image/png": "[encoded data removed]",
      "text/plain": [
       "<matplotlib.figure.Figure at 0x10879b6978>"
      ]
     },
     "metadata": {},
     "output_type": "display_data"
    },
    {
     "name": "stdout",
     "output_type": "stream",
     "text": [
      "<ggplot: (-9223372032417468514)>\n"
     ]
    }
   ],
   "source": [
    "print(p4)"
   ]
  },
  {
   "cell_type": "markdown",
   "metadata": {},
   "source": [
    "It shows a somehow similar trend; Brazil started later but continued to grow also past the 2010 mark"
   ]
  },
  {
   "cell_type": "code",
   "execution_count": 27,
   "metadata": {
    "collapsed": true
   },
   "outputs": [],
   "source": [
    "ITAmin = df[df['CountryName'] == 'Italy'].groupby('IndicatorName').min()\n",
    "BRAmin = df[df['CountryName'] == 'Brazil'].groupby('IndicatorName').min()\n",
    "del ITAmin['Year']\n",
    "del ITAmin['CountryName']\n",
    "del ITAmin['CountryCode']\n",
    "del ITAmin['IndicatorCode']\n",
    "del BRAmin['Year']\n",
    "del BRAmin['CountryName']\n",
    "del BRAmin['CountryCode']\n",
    "del BRAmin['IndicatorCode']"
   ]
  },
  {
   "cell_type": "code",
   "execution_count": 28,
   "metadata": {},
   "outputs": [
    {
     "data": {
      "text/html": [
       "<div>\n",
       "<style>\n",
       "    .dataframe thead tr:only-child th {\n",
       "        text-align: right;\n",
       "    }\n",
       "\n",
       "    .dataframe thead th {\n",
       "        text-align: left;\n",
       "    }\n",
       "\n",
       "    .dataframe tbody tr th {\n",
       "        vertical-align: top;\n",
       "    }\n",
       "</style>\n",
       "<table border=\"1\" class=\"dataframe\">\n",
       "  <thead>\n",
       "    <tr style=\"text-align: right;\">\n",
       "      <th></th>\n",
       "      <th>Value</th>\n",
       "    </tr>\n",
       "    <tr>\n",
       "      <th>IndicatorName</th>\n",
       "      <th></th>\n",
       "    </tr>\n",
       "  </thead>\n",
       "  <tbody>\n",
       "    <tr>\n",
       "      <th>External balance on goods and services (current US$)</th>\n",
       "      <td>-4.184870e+10</td>\n",
       "    </tr>\n",
       "    <tr>\n",
       "      <th>Current account balance (BoP, current US$)</th>\n",
       "      <td>-7.430360e+10</td>\n",
       "    </tr>\n",
       "    <tr>\n",
       "      <th>Cash surplus/deficit (current LCU)</th>\n",
       "      <td>-7.664900e+10</td>\n",
       "    </tr>\n",
       "    <tr>\n",
       "      <th>Portfolio Investment, net (BoP, current US$)</th>\n",
       "      <td>-1.068660e+11</td>\n",
       "    </tr>\n",
       "    <tr>\n",
       "      <th>Net financial account (BoP, current US$)</th>\n",
       "      <td>-1.154720e+11</td>\n",
       "    </tr>\n",
       "  </tbody>\n",
       "</table>\n",
       "</div>"
      ],
      "text/plain": [
       "                                                           Value\n",
       "IndicatorName                                                   \n",
       "External balance on goods and services (current... -4.184870e+10\n",
       "Current account balance (BoP, current US$)         -7.430360e+10\n",
       "Cash surplus/deficit (current LCU)                 -7.664900e+10\n",
       "Portfolio Investment, net (BoP, current US$)       -1.068660e+11\n",
       "Net financial account (BoP, current US$)           -1.154720e+11"
      ]
     },
     "execution_count": 28,
     "metadata": {},
     "output_type": "execute_result"
    }
   ],
   "source": [
    "ITAmin.sort_values(by = 'Value',ascending = False).tail()"
   ]
  },
  {
   "cell_type": "code",
   "execution_count": 29,
   "metadata": {},
   "outputs": [
    {
     "data": {
      "text/html": [
       "<div>\n",
       "<style>\n",
       "    .dataframe thead tr:only-child th {\n",
       "        text-align: right;\n",
       "    }\n",
       "\n",
       "    .dataframe thead th {\n",
       "        text-align: left;\n",
       "    }\n",
       "\n",
       "    .dataframe tbody tr th {\n",
       "        vertical-align: top;\n",
       "    }\n",
       "</style>\n",
       "<table border=\"1\" class=\"dataframe\">\n",
       "  <thead>\n",
       "    <tr style=\"text-align: right;\">\n",
       "      <th></th>\n",
       "      <th>Value</th>\n",
       "    </tr>\n",
       "    <tr>\n",
       "      <th>IndicatorName</th>\n",
       "      <th></th>\n",
       "    </tr>\n",
       "  </thead>\n",
       "  <tbody>\n",
       "    <tr>\n",
       "      <th>Current account balance (BoP, current US$)</th>\n",
       "      <td>-1.039810e+11</td>\n",
       "    </tr>\n",
       "    <tr>\n",
       "      <th>Cash surplus/deficit (current LCU)</th>\n",
       "      <td>-1.124059e+11</td>\n",
       "    </tr>\n",
       "    <tr>\n",
       "      <th>External balance on goods and services (constant LCU)</th>\n",
       "      <td>-1.302833e+11</td>\n",
       "    </tr>\n",
       "    <tr>\n",
       "      <th>External balance on goods and services (current LCU)</th>\n",
       "      <td>-1.522170e+11</td>\n",
       "    </tr>\n",
       "    <tr>\n",
       "      <th>Net income from abroad (current LCU)</th>\n",
       "      <td>-1.528480e+11</td>\n",
       "    </tr>\n",
       "  </tbody>\n",
       "</table>\n",
       "</div>"
      ],
      "text/plain": [
       "                                                           Value\n",
       "IndicatorName                                                   \n",
       "Current account balance (BoP, current US$)         -1.039810e+11\n",
       "Cash surplus/deficit (current LCU)                 -1.124059e+11\n",
       "External balance on goods and services (constan... -1.302833e+11\n",
       "External balance on goods and services (current... -1.522170e+11\n",
       "Net income from abroad (current LCU)               -1.528480e+11"
      ]
     },
     "execution_count": 29,
     "metadata": {},
     "output_type": "execute_result"
    }
   ],
   "source": [
    "BRAmin.sort_values(by = 'Value',ascending = False).tail()"
   ]
  },
  {
   "cell_type": "markdown",
   "metadata": {},
   "source": [
    "Cash surplus/deficit (current LCU) is the indicator of choice for this segment, and the graph shows both a wider range and a declining trend for Brazil"
   ]
  },
  {
   "cell_type": "code",
   "execution_count": 30,
   "metadata": {
    "collapsed": true
   },
   "outputs": [],
   "source": [
    "p5 = ggplot(df[df['IndicatorName'] == 'Cash surplus/deficit (current LCU)'], aes('Year', 'Value'))+ geom_line() + facet_wrap('CountryName')"
   ]
  },
  {
   "cell_type": "code",
   "execution_count": 31,
   "metadata": {},
   "outputs": [
    {
     "data": {
      "image/png": "[encoded data removed]",
      "text/plain": [
       "<matplotlib.figure.Figure at 0x1087ffae80>"
      ]
     },
     "metadata": {},
     "output_type": "display_data"
    },
    {
     "name": "stdout",
     "output_type": "stream",
     "text": [
      "<ggplot: (4437118924)>\n"
     ]
    }
   ],
   "source": [
    "print(p5)"
   ]
  },
  {
   "cell_type": "markdown",
   "metadata": {},
   "source": [
    "After the highs and lows, let's look for the medians, as the indicators that stayed mostly the same (std circa equal to 0)"
   ]
  },
  {
   "cell_type": "code",
   "execution_count": 32,
   "metadata": {},
   "outputs": [
    {
     "data": {
      "text/html": [
       "<div>\n",
       "<style>\n",
       "    .dataframe thead tr:only-child th {\n",
       "        text-align: right;\n",
       "    }\n",
       "\n",
       "    .dataframe thead th {\n",
       "        text-align: left;\n",
       "    }\n",
       "\n",
       "    .dataframe tbody tr th {\n",
       "        vertical-align: top;\n",
       "    }\n",
       "</style>\n",
       "<table border=\"1\" class=\"dataframe\">\n",
       "  <thead>\n",
       "    <tr style=\"text-align: right;\">\n",
       "      <th></th>\n",
       "      <th>Value</th>\n",
       "    </tr>\n",
       "    <tr>\n",
       "      <th>IndicatorName</th>\n",
       "      <th></th>\n",
       "    </tr>\n",
       "  </thead>\n",
       "  <tbody>\n",
       "    <tr>\n",
       "      <th>Coal rents (% of GDP)</th>\n",
       "      <td>0.000345</td>\n",
       "    </tr>\n",
       "    <tr>\n",
       "      <th>Youth literacy rate, population 15-24 years, gender parity index (GPI)</th>\n",
       "      <td>0.000704</td>\n",
       "    </tr>\n",
       "    <tr>\n",
       "      <th>Lifetime risk of maternal death (%)</th>\n",
       "      <td>0.001740</td>\n",
       "    </tr>\n",
       "    <tr>\n",
       "      <th>Adjusted savings: mineral depletion (% of GNI)</th>\n",
       "      <td>0.003132</td>\n",
       "    </tr>\n",
       "    <tr>\n",
       "      <th>Mineral rents (% of GDP)</th>\n",
       "      <td>0.005665</td>\n",
       "    </tr>\n",
       "    <tr>\n",
       "      <th>Adjusted savings: net forest depletion (% of GNI)</th>\n",
       "      <td>0.005809</td>\n",
       "    </tr>\n",
       "    <tr>\n",
       "      <th>Gross enrolment ratio, primary, gender parity index (GPI)</th>\n",
       "      <td>0.009584</td>\n",
       "    </tr>\n",
       "    <tr>\n",
       "      <th>CO2 emissions (kg per 2011 PPP $ of GDP)</th>\n",
       "      <td>0.014793</td>\n",
       "    </tr>\n",
       "    <tr>\n",
       "      <th>Gross enrolment ratio, primary and secondary, gender parity index (GPI)</th>\n",
       "      <td>0.024024</td>\n",
       "    </tr>\n",
       "    <tr>\n",
       "      <th>Forest rents (% of GDP)</th>\n",
       "      <td>0.037250</td>\n",
       "    </tr>\n",
       "    <tr>\n",
       "      <th>Arable land (hectares per person)</th>\n",
       "      <td>0.038819</td>\n",
       "    </tr>\n",
       "    <tr>\n",
       "      <th>Oil rents (% of GDP)</th>\n",
       "      <td>0.038880</td>\n",
       "    </tr>\n",
       "    <tr>\n",
       "      <th>PPP conversion factor, GDP (LCU per international $)</th>\n",
       "      <td>0.042313</td>\n",
       "    </tr>\n",
       "    <tr>\n",
       "      <th>CO2 emissions (kg per 2005 US$ of GDP)</th>\n",
       "      <td>0.046133</td>\n",
       "    </tr>\n",
       "    <tr>\n",
       "      <th>Gross enrolment ratio, secondary, gender parity index (GPI)</th>\n",
       "      <td>0.046364</td>\n",
       "    </tr>\n",
       "    <tr>\n",
       "      <th>PPP conversion factor, private consumption (LCU per international $)</th>\n",
       "      <td>0.046620</td>\n",
       "    </tr>\n",
       "    <tr>\n",
       "      <th>Logistics performance index: Overall (1=low to 5=high)</th>\n",
       "      <td>0.048297</td>\n",
       "    </tr>\n",
       "    <tr>\n",
       "      <th>Logistics performance index: Competence and quality of logistics services (1=low to 5=high)</th>\n",
       "      <td>0.053611</td>\n",
       "    </tr>\n",
       "    <tr>\n",
       "      <th>Bound rate, simple mean, manufactured products (%)</th>\n",
       "      <td>0.056122</td>\n",
       "    </tr>\n",
       "    <tr>\n",
       "      <th>Adjusted savings: carbon dioxide damage (% of GNI)</th>\n",
       "      <td>0.057954</td>\n",
       "    </tr>\n",
       "  </tbody>\n",
       "</table>\n",
       "</div>"
      ],
      "text/plain": [
       "                                                       Value\n",
       "IndicatorName                                               \n",
       "Coal rents (% of GDP)                               0.000345\n",
       "Youth literacy rate, population 15-24 years, ge...  0.000704\n",
       "Lifetime risk of maternal death (%)                 0.001740\n",
       "Adjusted savings: mineral depletion (% of GNI)      0.003132\n",
       "Mineral rents (% of GDP)                            0.005665\n",
       "Adjusted savings: net forest depletion (% of GNI)   0.005809\n",
       "Gross enrolment ratio, primary, gender parity i...  0.009584\n",
       "CO2 emissions (kg per 2011 PPP $ of GDP)            0.014793\n",
       "Gross enrolment ratio, primary and secondary, g...  0.024024\n",
       "Forest rents (% of GDP)                             0.037250\n",
       "Arable land (hectares per person)                   0.038819\n",
       "Oil rents (% of GDP)                                0.038880\n",
       "PPP conversion factor, GDP (LCU per internation...  0.042313\n",
       "CO2 emissions (kg per 2005 US$ of GDP)              0.046133\n",
       "Gross enrolment ratio, secondary, gender parity...  0.046364\n",
       "PPP conversion factor, private consumption (LCU...  0.046620\n",
       "Logistics performance index: Overall (1=low to ...  0.048297\n",
       "Logistics performance index: Competence and qua...  0.053611\n",
       "Bound rate, simple mean, manufactured products (%)  0.056122\n",
       "Adjusted savings: carbon dioxide damage (% of GNI)  0.057954"
      ]
     },
     "execution_count": 32,
     "metadata": {},
     "output_type": "execute_result"
    }
   ],
   "source": [
    "ITAmedian = ITAstd.sort_values(by = 'Value', ascending = False).dropna()\n",
    "ITAmedian[ITAmedian != 0].dropna().sort_values(by = 'Value').head(20)"
   ]
  },
  {
   "cell_type": "code",
   "execution_count": 33,
   "metadata": {},
   "outputs": [
    {
     "data": {
      "text/html": [
       "<div>\n",
       "<style>\n",
       "    .dataframe thead tr:only-child th {\n",
       "        text-align: right;\n",
       "    }\n",
       "\n",
       "    .dataframe thead th {\n",
       "        text-align: left;\n",
       "    }\n",
       "\n",
       "    .dataframe tbody tr th {\n",
       "        vertical-align: top;\n",
       "    }\n",
       "</style>\n",
       "<table border=\"1\" class=\"dataframe\">\n",
       "  <thead>\n",
       "    <tr style=\"text-align: right;\">\n",
       "      <th></th>\n",
       "      <th>Value</th>\n",
       "    </tr>\n",
       "    <tr>\n",
       "      <th>IndicatorName</th>\n",
       "      <th></th>\n",
       "    </tr>\n",
       "  </thead>\n",
       "  <tbody>\n",
       "    <tr>\n",
       "      <th>Currency composition of PPG debt, SDR (%)</th>\n",
       "      <td>0.001228</td>\n",
       "    </tr>\n",
       "    <tr>\n",
       "      <th>Agricultural irrigated land (% of total agricultural land)</th>\n",
       "      <td>0.004871</td>\n",
       "    </tr>\n",
       "    <tr>\n",
       "      <th>Coal rents (% of GDP)</th>\n",
       "      <td>0.006531</td>\n",
       "    </tr>\n",
       "    <tr>\n",
       "      <th>Youth literacy rate, population 15-24 years, gender parity index (GPI)</th>\n",
       "      <td>0.008410</td>\n",
       "    </tr>\n",
       "    <tr>\n",
       "      <th>CO2 emissions (kg per 2011 PPP $ of GDP)</th>\n",
       "      <td>0.009756</td>\n",
       "    </tr>\n",
       "    <tr>\n",
       "      <th>Bound rate, simple mean, all products (%)</th>\n",
       "      <td>0.014337</td>\n",
       "    </tr>\n",
       "    <tr>\n",
       "      <th>Arable land (hectares per person)</th>\n",
       "      <td>0.019889</td>\n",
       "    </tr>\n",
       "    <tr>\n",
       "      <th>Bound rate, simple mean, manufactured products (%)</th>\n",
       "      <td>0.021731</td>\n",
       "    </tr>\n",
       "    <tr>\n",
       "      <th>CO2 emissions (kg per PPP $ of GDP)</th>\n",
       "      <td>0.025681</td>\n",
       "    </tr>\n",
       "    <tr>\n",
       "      <th>CO2 emissions (kg per 2005 US$ of GDP)</th>\n",
       "      <td>0.025898</td>\n",
       "    </tr>\n",
       "    <tr>\n",
       "      <th>Taxes on exports (% of tax revenue)</th>\n",
       "      <td>0.031097</td>\n",
       "    </tr>\n",
       "    <tr>\n",
       "      <th>Bound rate, simple mean, primary products (%)</th>\n",
       "      <td>0.062133</td>\n",
       "    </tr>\n",
       "    <tr>\n",
       "      <th>Permanent cropland (% of land area)</th>\n",
       "      <td>0.066882</td>\n",
       "    </tr>\n",
       "    <tr>\n",
       "      <th>Logistics performance index: Efficiency of customs clearance process (1=low to 5=high)</th>\n",
       "      <td>0.068220</td>\n",
       "    </tr>\n",
       "    <tr>\n",
       "      <th>Natural gas rents (% of GDP)</th>\n",
       "      <td>0.069085</td>\n",
       "    </tr>\n",
       "    <tr>\n",
       "      <th>Lifetime risk of maternal death (%)</th>\n",
       "      <td>0.071596</td>\n",
       "    </tr>\n",
       "    <tr>\n",
       "      <th>Research and development expenditure (% of GDP)</th>\n",
       "      <td>0.074701</td>\n",
       "    </tr>\n",
       "    <tr>\n",
       "      <th>Adjusted savings: carbon dioxide damage (% of GNI)</th>\n",
       "      <td>0.075372</td>\n",
       "    </tr>\n",
       "    <tr>\n",
       "      <th>Net ODA received (% of central government expense)</th>\n",
       "      <td>0.086143</td>\n",
       "    </tr>\n",
       "    <tr>\n",
       "      <th>Net ODA received (% of imports of goods, services and primary income)</th>\n",
       "      <td>0.088327</td>\n",
       "    </tr>\n",
       "  </tbody>\n",
       "</table>\n",
       "</div>"
      ],
      "text/plain": [
       "                                                       Value\n",
       "IndicatorName                                               \n",
       "Currency composition of PPG debt, SDR (%)           0.001228\n",
       "Agricultural irrigated land (% of total agricul...  0.004871\n",
       "Coal rents (% of GDP)                               0.006531\n",
       "Youth literacy rate, population 15-24 years, ge...  0.008410\n",
       "CO2 emissions (kg per 2011 PPP $ of GDP)            0.009756\n",
       "Bound rate, simple mean, all products (%)           0.014337\n",
       "Arable land (hectares per person)                   0.019889\n",
       "Bound rate, simple mean, manufactured products (%)  0.021731\n",
       "CO2 emissions (kg per PPP $ of GDP)                 0.025681\n",
       "CO2 emissions (kg per 2005 US$ of GDP)              0.025898\n",
       "Taxes on exports (% of tax revenue)                 0.031097\n",
       "Bound rate, simple mean, primary products (%)       0.062133\n",
       "Permanent cropland (% of land area)                 0.066882\n",
       "Logistics performance index: Efficiency of cust...  0.068220\n",
       "Natural gas rents (% of GDP)                        0.069085\n",
       "Lifetime risk of maternal death (%)                 0.071596\n",
       "Research and development expenditure (% of GDP)     0.074701\n",
       "Adjusted savings: carbon dioxide damage (% of GNI)  0.075372\n",
       "Net ODA received (% of central government expense)  0.086143\n",
       "Net ODA received (% of imports of goods, servic...  0.088327"
      ]
     },
     "execution_count": 33,
     "metadata": {},
     "output_type": "execute_result"
    }
   ],
   "source": [
    "BRAmedian = BRAstd.sort_values(by = 'Value', ascending = False).dropna()\n",
    "BRAmedian[BRAmedian != 0].dropna().sort_values(by = 'Value').head(20)"
   ]
  },
  {
   "cell_type": "markdown",
   "metadata": {},
   "source": [
    "One indicator present in both subsets is Lifetime risk of maternal death(%) and here the graph shows, despite the tremendous improvements of Brazil in the last 25 years, a considerable gap between the two countries."
   ]
  },
  {
   "cell_type": "code",
   "execution_count": 34,
   "metadata": {
    "collapsed": true
   },
   "outputs": [],
   "source": [
    "p6 = ggplot(df[df['IndicatorName'] == 'Lifetime risk of maternal death (%)'], aes('Year', 'Value'))+ geom_line() + facet_wrap('CountryName')"
   ]
  },
  {
   "cell_type": "code",
   "execution_count": 35,
   "metadata": {},
   "outputs": [
    {
     "data": {
      "image/png": "[encoded data removed]",
      "text/plain": [
       "<matplotlib.figure.Figure at 0x10880e6c18>"
      ]
     },
     "metadata": {},
     "output_type": "display_data"
    },
    {
     "name": "stdout",
     "output_type": "stream",
     "text": [
      "<ggplot: (-9223372032417171452)>\n"
     ]
    }
   ],
   "source": [
    "print(p6)"
   ]
  },
  {
   "cell_type": "markdown",
   "metadata": {},
   "source": [
    "I deem the last part of this analysis the most interesting: by comparing the indicators that had a low variation over the years, we can investigate what truly sets apart the two countries the best, as what didn’t change despite the different cycle the two countries are in."
   ]
  },
  {
   "cell_type": "markdown",
   "metadata": {},
   "source": [
    "The next step could be to compare indicators guided by general knowledge instead of just by the data. Like for example focus on indicators related to education, the health system or the environment to see if the economic growth has improved the life standard of Brazil or if the stagnation lowed Italy’s one."
   ]
  }
 ],
 "metadata": {
  "kernelspec": {
   "display_name": "Python 3",
   "language": "python",
   "name": "python3"
  },
  "language_info": {
   "codemirror_mode": {
    "name": "ipython",
    "version": 3
   },
   "file_extension": ".py",
   "mimetype": "text/x-python",
   "name": "python",
   "nbconvert_exporter": "python",
   "pygments_lexer": "ipython3",
   "version": "3.6.3"
  }
 },
 "nbformat": 4,
 "nbformat_minor": 2
}
